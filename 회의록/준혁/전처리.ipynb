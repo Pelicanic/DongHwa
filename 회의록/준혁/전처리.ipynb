{
  "cells": [
    {
      "cell_type": "code",
      "execution_count": null,
      "id": "0ba048fe-ffc5-4f18-8c2b-2c89ff058f15",
      "metadata": {
        "id": "0ba048fe-ffc5-4f18-8c2b-2c89ff058f15",
        "outputId": "b4dc46ae-b566-4d9f-a126-51b8d2519048"
      },
      "outputs": [
        {
          "name": "stdout",
          "output_type": "stream",
          "text": [
            "Collecting pymysql\n",
            "  Using cached PyMySQL-1.1.1-py3-none-any.whl.metadata (4.4 kB)\n",
            "Using cached PyMySQL-1.1.1-py3-none-any.whl (44 kB)\n",
            "Installing collected packages: pymysql\n",
            "Successfully installed pymysql-1.1.1\n",
            "Note: you may need to restart the kernel to use updated packages.\n"
          ]
        }
      ],
      "source": [
        "pip install pymysql"
      ]
    },
    {
      "cell_type": "markdown",
      "source": [
        "## 1. 작가 이름 JSON에서 찾기\n",
        "* User 테이블에 기존의 작가를 더미회원으로 삽입하기 위한 우선 작업입니다.\n"
      ],
      "metadata": {
        "id": "XoliGIJB5B4d"
      },
      "id": "XoliGIJB5B4d"
    },
    {
      "cell_type": "code",
      "execution_count": null,
      "id": "f39ee999-dc4f-4ef0-9139-dc0e0b88f887",
      "metadata": {
        "id": "f39ee999-dc4f-4ef0-9139-dc0e0b88f887",
        "outputId": "d8581598-b0e1-44e4-ffdf-590da1bc17b0"
      },
      "outputs": [
        {
          "name": "stdout",
          "output_type": "stream",
          "text": [
            "Extracting: /Users/sopung/Desktop/jupyter_notebook/donghwa/Training/VL_05T_신체운동_건강_01S_유아.zip → /Users/sopung/Desktop/jupyter_notebook/donghwa/Training/VL_05T_신체운동_건강_01S_유아\n",
            "Extracting: /Users/sopung/Desktop/jupyter_notebook/donghwa/Training/TL_01T_의사소통_01S_유아.zip → /Users/sopung/Desktop/jupyter_notebook/donghwa/Training/TL_01T_의사소통_01S_유아\n",
            "Extracting: /Users/sopung/Desktop/jupyter_notebook/donghwa/Training/TL_04T_예술경험_03S_초등_고학년.zip → /Users/sopung/Desktop/jupyter_notebook/donghwa/Training/TL_04T_예술경험_03S_초등_고학년\n",
            "Extracting: /Users/sopung/Desktop/jupyter_notebook/donghwa/Training/TL_05T_신체운동_건강_03S_초등_고학년.zip → /Users/sopung/Desktop/jupyter_notebook/donghwa/Training/TL_05T_신체운동_건강_03S_초등_고학년\n",
            "Extracting: /Users/sopung/Desktop/jupyter_notebook/donghwa/Training/VL_02T_자연탐구_03S_초등_고학년.zip → /Users/sopung/Desktop/jupyter_notebook/donghwa/Training/VL_02T_자연탐구_03S_초등_고학년\n",
            "Extracting: /Users/sopung/Desktop/jupyter_notebook/donghwa/Training/TL_02T_자연탐구_02S_초등_저학년.zip → /Users/sopung/Desktop/jupyter_notebook/donghwa/Training/TL_02T_자연탐구_02S_초등_저학년\n",
            "Extracting: /Users/sopung/Desktop/jupyter_notebook/donghwa/Training/VL_04T_예술경험_01S_유아.zip → /Users/sopung/Desktop/jupyter_notebook/donghwa/Training/VL_04T_예술경험_01S_유아\n",
            "Extracting: /Users/sopung/Desktop/jupyter_notebook/donghwa/Training/VL_04T_예술경험_03S_초등_고학년.zip → /Users/sopung/Desktop/jupyter_notebook/donghwa/Training/VL_04T_예술경험_03S_초등_고학년\n",
            "Extracting: /Users/sopung/Desktop/jupyter_notebook/donghwa/Training/TL_03T_사회관계_01S_유아.zip → /Users/sopung/Desktop/jupyter_notebook/donghwa/Training/TL_03T_사회관계_01S_유아\n",
            "Extracting: /Users/sopung/Desktop/jupyter_notebook/donghwa/Training/TL_03T_사회관계_02S_초등_저학년.zip → /Users/sopung/Desktop/jupyter_notebook/donghwa/Training/TL_03T_사회관계_02S_초등_저학년\n",
            "Extracting: /Users/sopung/Desktop/jupyter_notebook/donghwa/Training/VL_03T_사회관계_02S_초등_저학년.zip → /Users/sopung/Desktop/jupyter_notebook/donghwa/Training/VL_03T_사회관계_02S_초등_저학년\n",
            "Extracting: /Users/sopung/Desktop/jupyter_notebook/donghwa/Training/VL_01T_의사소통_02S_초등_저학년.zip → /Users/sopung/Desktop/jupyter_notebook/donghwa/Training/VL_01T_의사소통_02S_초등_저학년\n",
            "Extracting: /Users/sopung/Desktop/jupyter_notebook/donghwa/Training/VL_05T_신체운동_건강_03S_초등_고학년.zip → /Users/sopung/Desktop/jupyter_notebook/donghwa/Training/VL_05T_신체운동_건강_03S_초등_고학년\n",
            "Extracting: /Users/sopung/Desktop/jupyter_notebook/donghwa/Training/TL_01T_의사소통_02S_초등_저학년.zip → /Users/sopung/Desktop/jupyter_notebook/donghwa/Training/TL_01T_의사소통_02S_초등_저학년\n",
            "Extracting: /Users/sopung/Desktop/jupyter_notebook/donghwa/Training/VL_02T_자연탐구_01S_유아.zip → /Users/sopung/Desktop/jupyter_notebook/donghwa/Training/VL_02T_자연탐구_01S_유아\n",
            "Extracting: /Users/sopung/Desktop/jupyter_notebook/donghwa/Training/TL_01T_의사소통_03S_초등_고학년.zip → /Users/sopung/Desktop/jupyter_notebook/donghwa/Training/TL_01T_의사소통_03S_초등_고학년\n",
            "Extracting: /Users/sopung/Desktop/jupyter_notebook/donghwa/Training/VL_01T_의사소통_03S_초등_고학년.zip → /Users/sopung/Desktop/jupyter_notebook/donghwa/Training/VL_01T_의사소통_03S_초등_고학년\n",
            "Extracting: /Users/sopung/Desktop/jupyter_notebook/donghwa/Training/TL_04T_예술경험_01S_유아.zip → /Users/sopung/Desktop/jupyter_notebook/donghwa/Training/TL_04T_예술경험_01S_유아\n",
            "Extracting: /Users/sopung/Desktop/jupyter_notebook/donghwa/Training/TL_02T_자연탐구_01S_유아.zip → /Users/sopung/Desktop/jupyter_notebook/donghwa/Training/TL_02T_자연탐구_01S_유아\n",
            "Extracting: /Users/sopung/Desktop/jupyter_notebook/donghwa/Training/VL_01T_의사소통_01S_유아.zip → /Users/sopung/Desktop/jupyter_notebook/donghwa/Training/VL_01T_의사소통_01S_유아\n",
            "Extracting: /Users/sopung/Desktop/jupyter_notebook/donghwa/Training/VL_03T_사회관계_03S_초등_고학년.zip → /Users/sopung/Desktop/jupyter_notebook/donghwa/Training/VL_03T_사회관계_03S_초등_고학년\n",
            "Extracting: /Users/sopung/Desktop/jupyter_notebook/donghwa/Training/TL_03T_사회관계_03S_초등_고학년.zip → /Users/sopung/Desktop/jupyter_notebook/donghwa/Training/TL_03T_사회관계_03S_초등_고학년\n",
            "Extracting: /Users/sopung/Desktop/jupyter_notebook/donghwa/Training/VL_04T_예술경험_02S_초등_저학년.zip → /Users/sopung/Desktop/jupyter_notebook/donghwa/Training/VL_04T_예술경험_02S_초등_저학년\n",
            "Extracting: /Users/sopung/Desktop/jupyter_notebook/donghwa/Training/VL_02T_자연탐구_02S_초등_저학년.zip → /Users/sopung/Desktop/jupyter_notebook/donghwa/Training/VL_02T_자연탐구_02S_초등_저학년\n",
            "Extracting: /Users/sopung/Desktop/jupyter_notebook/donghwa/Training/TL_02T_자연탐구_03S_초등_고학년.zip → /Users/sopung/Desktop/jupyter_notebook/donghwa/Training/TL_02T_자연탐구_03S_초등_고학년\n",
            "Extracting: /Users/sopung/Desktop/jupyter_notebook/donghwa/Training/VL_03T_사회관계_01S_유아.zip → /Users/sopung/Desktop/jupyter_notebook/donghwa/Training/VL_03T_사회관계_01S_유아\n",
            "Extracting: /Users/sopung/Desktop/jupyter_notebook/donghwa/Training/TL_05T_신체운동_건강_01S_유아.zip → /Users/sopung/Desktop/jupyter_notebook/donghwa/Training/TL_05T_신체운동_건강_01S_유아\n",
            "Extracting: /Users/sopung/Desktop/jupyter_notebook/donghwa/Training/TL_04T_예술경험_02S_초등_저학년.zip → /Users/sopung/Desktop/jupyter_notebook/donghwa/Training/TL_04T_예술경험_02S_초등_저학년\n"
          ]
        }
      ],
      "source": [
        "import os\n",
        "import zipfile\n",
        "\n",
        "# 압축 파일들이 들어있는 최상위 폴더\n",
        "base_dir = \"/Users/sopung/Desktop/jupyter_notebook/donghwa\"\n",
        "\n",
        "# 재귀적으로 모든 하위 폴더 탐색\n",
        "for root, dirs, files in os.walk(base_dir):\n",
        "    for file in files:\n",
        "        if file.endswith(\".zip\"):\n",
        "            zip_path = os.path.join(root, file)\n",
        "            extract_folder = os.path.join(root, file[:-4])  # .zip 제거한 폴더명\n",
        "\n",
        "            # 압축 해제\n",
        "            with zipfile.ZipFile(zip_path, 'r') as zip_ref:\n",
        "                print(f\"Extracting: {zip_path} → {extract_folder}\")\n",
        "                zip_ref.extractall(extract_folder)\n"
      ]
    },
    {
      "cell_type": "code",
      "execution_count": null,
      "id": "e4cf6f40-408b-41f8-9bb0-cbe12c45ba5d",
      "metadata": {
        "id": "e4cf6f40-408b-41f8-9bb0-cbe12c45ba5d",
        "outputId": "84562cdf-7293-4aa9-921c-c22ab13589e4"
      },
      "outputs": [
        {
          "name": "stdout",
          "output_type": "stream",
          "text": [
            "['9791157023738', '가 빈', '가만희', '가순열', '가스통 르루', '강두영', '강로사', '강민경', '강민우', '강선남', '강성은', '강성은, 이대형', '강숙인', '강연수', '강용숙', '강은진', '강정규', '강정연', '강정화', '강지혜', '강효미', '강휘생', '겨울', '고래필통', '고선미', '고순덕', '고영이', '고영이 외', '고영이, 하늘땅', '고은경', '고지혜', '고희경', '고희동', '곰세마리', '곽민수', '곽영미', '교연아카데미 편집부', '구들', '권소리', '권윤경', '권정현', '그림 형제', '그림형제', '글깨비', '글뿌리', '기정이', '길선영', '김겨울', '김경란', '김경민', '김경수', '김경희', '김귀경', '김근주', '김남석', '김남중', '김남희', '김동엽', '김두임', '김란주', '김마리아', '김문기', '김미선, 채영숙, 김은정, 박찬', '김미애', '김미연', '김미혜', '김민경', '김민지', '김민진', '김복현', '김복희', '김부식', '김빈애', '김삼진', '김상영', '김서경', '김서연', '김서정', '김서현', '김선영', '김선진', '김성춘', '김세실', '김세영', '김소형', '김수병', '김수정', '김수현', '김수희', '김순한', '김시습', '김연아', '김영', '김영미', '김영숙', '김영숙, 양진희', '김영주', '김영후', '김예림', '김예실', '김옥란', '김완기', '김용란', '김원한', '김유리', '김유리, 아람', '김유리,장선혜', '김윤영', '김윤태', '김은경', '김은미', '김은순', '김은영', '김은정', '김은중', '김은지', '김인숙', '김인숙, 송호정', '김인숙, 아람', '김일광', '김일항', '김자호', '김장성', '김정란', '김정애', '김정하', '김정희', '김주희', '김준영', '김지연', '김지연,김민정', '김지연,김인숙', '김지연,지혜', '김지영', '김지유', '김지윤', '김지현', '김진화', '김태연', '김평', '김한나', '김한상', '김해원', '김현숙', '김현애', '김현정', '김현주', '김현화', '김혜선', '김혜영', '김호정', '김호현', '김희남', '꼬까신', '꼬두람이', '꿈바라기', '꿈바라기 엮음', '꿈비행', '나관중', '나난별', '나쓰메 소세키', '나은비', '나은희', '나지원', '남아프리카 공화국 민간 설화', '노르웨이 옛이야기', '노지영', '니콜라이 노조프', '다연', '대니얼 디포', '더나은', '도삼회', '라', '라이먼 프랭크 바움', '러디어드 키플링', '러시아 옛이야기', '레프 니콜라예비치 톨스토이', '로러 잉걸스 와일더', '로버트 루이스 스티븐슨', '로버트 브라우닝', '로즈마리 서트클리프', '루너 욘슨', '루디야드 키플링', '루시 모드 몽고메리', '루이스 캐럴', '루이자 메이 올컷', '류은', '류현', '르네 기요', '리처드 프랜시스 버턴', '마르셀 에메', '마리아 오거스터 본 트랩', '마리안 모네스티에', '마야 보이체호프스카', '마크 트웨인', '메이벨 에스터 앨런', '멕시코 민간 설화', '모리스 르블랑', '모비', '몽골 민간 설화', '무지개 편집부', '문명식', '미겔 데 세르반테스', '미구엘 데 세르반테스 사아베드라', '미야자와 겐지', '미얀마 민간 설화', '민수현', '민정원', '민준', '민해', '바바라 스머커', '박경아', '박나래', '박남희', '박노자', '박명규', '박민주', '박민호', '박비소리', '박상호', '박서영', '박설아', '박성식', '박세린', '박소영', '박소율', '박소혜', '박안나', '박영란', '박영주', '박영지', '박영희', '박예분', '박윤경', '박은선', '박은영', '박은정', '박종환', '박주미', '박주혜', '박준구', '박지숙', '박지연', '박지영', '박지원', '박창석', '박태옥', '박현진', '박혜선', '박혜수', '박혜숙', '박효미', '방대광', '방미진', '방세연', '배미주', '배인주', '배일영', '배현순', '백금서', '백기영', '백나영', '백미숙', '백승온', '백은영', '백은하', '백종민', '베기체프', '베라, 빌 클리버', '베르이먼', '베티 그린', '변진영', '변혜원', '변희승', '보린', '부희령', '브로닌 멀렌', '블라디미르 베기체프', '비타민', '빅토르 마리 위고', '빅토르 위고', '빌헬름 하우프', '사뮤일 마르샤크', '새상 이야기', '샤를 페로', '샤를\\xa0페로', '서경하', '서구름', '서금복', '서보현', '서상희', '서선연', '서슬기사벳', '서영선', '서유진', '서유찬', '서은', '서정일', '서지원', '서진희', '서진희, 하늘땅', '서혜숙', '서희윤', '선안나', '선자은', '설이현', '성은경', '성현주', '셀마 라게를뢰프', '셰익스피어', '소라게', '소망', '손민호', '손주현', '손호경', '송경진', '송선미', '송선진', '송성진', '송소영', '송아주', '송언', '송윤수', '송은영', '송종호', '시우', '신동경', '신선웅', '신승철', '신연미', '신영란', '신영하', '신옥철', '신재옥', '신재환', '신전향', '신정민', '신지윤', '신지은', '신현경', '신현배', '신현승', '신현영', '신현정', '신혜진', '심정인', '씬디', '아네르슨', '아람', '아람 편집부', '아람, 정스토리공방', '아서 코난 도일', '아작', '아쿠타가와 류노스케', '안네 프랑크', '안느 소피 보만', '안데르센', '안미란', '안미연', '안수민', '안순혜', '안영주', '안은진', '안재원', '알렉상드르 뒤마', '알퐁스 도데', '앙투안 갈랑', '앙투안 드 생텍쥐페리', '앤 테리 화이트', '앨리스 딜런', '야나기야 게이코', '야코프 그림,빌헬름 그림', '양대승', '양승현', '양연주', '양지안', '양태석', '양혜원', '양혜정', '어깨동무', '어린이경제신문사', '어린이인성교육연구회', '엄기원', '엄미랑', '엄상란', '엄승희', '엄혜숙', '엄홍길', '에두알트 슈돌프', '에드몬도 데 아미치스', '에른스트 테오도르 아마데우스 호프만', '에른스트 호프만', '에리히 케스트너', '에릭 크리스천 호가드', '에릭 호가드', '엑토르 앙리 말로', '엔초 페트리니', '여름아이', '오 헨리', '오다윤', '오복선', '오수민', '오스카 와일드', '오승은', '오영선', '오은실', '오은희', '오주영', '오주현', '오푸름', '오현경', '온유', '왕민정', '요하나 슈피리', '요한나 슈피리', '우미옥', '우선덕', '우성희', '우은경', '우은경, 하늘땅', '우일문', '우현옥', '우현옥, 좋은글샘', '원유상', '원의경', '원종국', '위다', '윌리엄 셰익스피어', '윌리엄 앤더슨', '유가은', '유계영', '유고슬라비아 민간 설화', '유다정', '유리 나기빈', '유명화', '유선', '유영소', '유일', '유일윤', '유지광', '유진형', '유효진', '육서성', '윤미나', '윤민재', '윤선아', '윤아해', '윤여림', '윤영선', '윤정', '윤지수', '윤지연', '윤진화', '윤희정', '은서영', '이경민', '이경순', '이경애', '이경혜', '이귀영', '이규태', '이규희', '이기훈', '이김천', '이나무', '이대신', '이대영', '이라크 민간 설화', '이루미', '이림', '이미애', '이미애 외', '이미애, 하늘땅', '이미영', '이미정', '이미현', '이민진', '이민호', '이복자', '이붕', '이브 가네트', '이비단', '이상각', '이상교', '이상교 외', '이상미', '이상미,하늘땅', '이석우', '이선아', '이선아 외', '이선아, 이대형', '이선아, 하늘땅', '이선주', '이성수', '이세린', '이세연', '이세희', '이솝', '이솝, 라퐁텐', '이수연', '이숙재', '이순남', '이순진', '이슬기', '이승재', '이승진', '이승희', '이영경', '이영희', '이옥주', '이용포', '이원경', '이원정', '이유정', '이윤주', '이윤진', '이은지', '이재은', '이재훈', '이정경', '이정범', '이주혜', '이지수', '이지아', '이지영', '이지원', '이지현', '이지형', '이진', '이향안', '이현주', '이혜다', '이혜옥', '이혜옥 외', '이혜옥, 하늘땅', '이호륜', '이흔', '이희주', '익훈', '인도 민간 설화', '인도 서사시', '일본 민간 설화', '일연', '임다은', '임선아', '임어진', '임율이', '임태섭', '임형진', '잔 마리 드 보몽', '장기화', '장문식', '장보영', '장석봉', '장선혜', '장선혜,유명화', '장세정', '장세현', '장원정', '장윤영', '장지영', '장지윤', '장진국', '장철문', '장혜경', '장희정', '전경숙', '전나무', '전미숙', '전미희', '전민희', '전성태', '전윤호', '전은희', '전현영', '전혜영', '정경미', '정경혜', '정란희', '정명숙', '정명순', '정민경', '정선아', '정설아', '정성란', '정소영', '정스토리공방', '정연숙', '정연진', '정원 여름', '정유나', '정유리', '정율희', '정은미', '정은혜', '정이숙', '정재은', '정종윤', '정주영', '정지수', '정지아', '정지영', '정진', '정채봉', '정태화', '정향숙', '정혜원', '정회성', '정희용', '제롬 데이비드 샐린저', '제민조', '제이 베네트', '제임스 매튜 배리', '제임스 콜리어', '제임스 휴스턴', '조경인', '조동호', '조미희', '조선학', '조영경', '조용명', '조은경', '조은선', '조은수', '조은숙', '조은주', '조임생', '조정옥', '조정원', '조제 마우루 지 바스콘셀로스', '조종순', '조지 오웰', '조지프 제이콥스', '조항록', '조현경', '조현민', '존 로우 타운젠드', '좋은글샘', '주득회', '주디 블룸', '주미경', '주미화', '중국 고대 소설', '쥘 베른', '지요', '지혜', '진 웹스터', '진미옥', '진복희', '차보금', '차수진', '찰스 디킨스', '채영숙, 김미선', '채영숙, 김미선, 류재혁, 현진오', '초록개구리', '초록큰나무', '최경', '최고은', '최광희', '최국희', '최규순', '최나미', '최미리', '최미숙', '최미숙 엮음', '최서연', '최서윤', '최수복', '최수연', '최순자, 큰나무뿌리', '최옥임', '최유희', '최윤정', '최은규', '최은미', '최은주', '최인순', '최지영', '최지혜', '최태선', '최향숙', '최형미', '추코프스키', '춤추는 코끼리', '카를 브루크너', '카를로 코롤디', '카를로 콜로디', '칼라시나코프', '커닉스버그', '케냐 민간 설화', '콘스탄틴 이오시호프', '쿠르트 쿠젠베르크', '크레이그 스트리트', '키움북스 편집부', '타이 민간 설화', '탈무드', '태동 출판사', '태동 편집부', '터키 민간 설화', '티베트 민간 설화', '파멜라 트래버스', '팔레이 모와트', '팽민희', '편건범', '편대범', '편집부', '포르튀네 뒤 부아고베', '표도르 미하일로비치 도스토예프스키', '표도르브나', '프랜시스 호지슨 버넷', '프랭크 봄', '피터 카터', '하늘땅', '하늘땅,김태연', '하루', '하워드 파일', '한국 고대 소설', '한국 서사 무가', '한국삐아제 편집부', '한국역사교육연구회', '한국역사교육연구회 편집1팀', '한국역사교육연구회 편집2팀', '한국역사교육연구회 편집3팀', '한미경', '한미숙', '한미혜', '한스 크리스티안 안데르센', '한스 크리스티안\\xa0안데르센', '한슬,최고은,하루', '한얼교육 편집부', '한얼에듀 편집부', '한예찬', '한은선', '한인숙', '한정아', '함제인', '함지슬', '함혜진', '해랑', '해리 쿨만', '해리엇 비처 스토', '허균', '허운용', '허은실', '헤르만 헤세', '헨리크 솅키에비치', '헬렌 부시', '현무와 주작', '혜린', '호르스트 부르거', '호메로스', '홍동규', '홍련', '홍민정', '홍서연', '홍성훈', '홍윤희', '황의웅', '황지영']\n"
          ]
        }
      ],
      "source": [
        "import json\n",
        "\n",
        "def collect_authors(json_root_dir):\n",
        "    author_set = set()\n",
        "    for root, dirs, files in os.walk(json_root_dir):\n",
        "        for fname in files:\n",
        "            if fname.endswith(\".json\"):\n",
        "                json_path = os.path.join(root, fname)\n",
        "                try:\n",
        "                    with open(json_path, \"r\", encoding=\"utf-8\") as f:\n",
        "                        data = json.load(f)\n",
        "                        author = data.get(\"author\", \"작자미상\").strip()\n",
        "                        author_set.add(author)\n",
        "                except Exception as e:\n",
        "                    print(f\"[경고] JSON 파싱 실패: {json_path} | 에러: {e}\")\n",
        "    return sorted(author_set)\n",
        "\n",
        "# 사용 예\n",
        "author_dir = '/Users/sopung/Desktop/jupyter_notebook/donghwa/Training'\n",
        "authors = collect_authors_recursive(author_dir)\n",
        "print(authors)"
      ]
    },
    {
      "cell_type": "code",
      "execution_count": null,
      "id": "dc294314-3e28-4757-8d01-c9df2920e281",
      "metadata": {
        "id": "dc294314-3e28-4757-8d01-c9df2920e281",
        "outputId": "45d93b1f-b50e-46dc-f5f1-6ce9a7a71da7"
      },
      "outputs": [
        {
          "name": "stdout",
          "output_type": "stream",
          "text": [
            "759\n"
          ]
        }
      ],
      "source": [
        "# 총 759개\n",
        "print(len(authors))"
      ]
    },
    {
      "cell_type": "markdown",
      "source": [
        "## 2. DB연결 확인\n",
        "* DB에 삽입하기 전 연결을 확인합니다.\n",
        "* DB의 연결정보는 .env에 있습니다."
      ],
      "metadata": {
        "id": "oqxu9x9L6E68"
      },
      "id": "oqxu9x9L6E68"
    },
    {
      "cell_type": "code",
      "execution_count": null,
      "id": "0dbba781-a81b-479f-940b-f804cfa12426",
      "metadata": {
        "id": "0dbba781-a81b-479f-940b-f804cfa12426",
        "outputId": "f4bfc78b-434d-4074-e310-318774b3ed15"
      },
      "outputs": [
        {
          "name": "stdout",
          "output_type": "stream",
          "text": [
            "[✓] MySQL 연결 성공 - 버전: 10.6.22-MariaDB-0ubuntu0.22.04.1\n"
          ]
        }
      ],
      "source": [
        "import pymysql\n",
        "from dotenv import load_dotenv\n",
        "\n",
        "\n",
        "# .env 파일 로드\n",
        "load_dotenv()\n",
        "\n",
        "# DB 접속 정보 (.env에서 불러오기)\n",
        "DB_CONFIG = {\n",
        "    'host': os.getenv('DB_HOST'),\n",
        "    'port': int(os.getenv('DB_PORT', 3306)),\n",
        "    'user': os.getenv('DB_USER'),\n",
        "    'password': os.getenv('DB_PASSWORD'),\n",
        "    'database': os.getenv('DB_NAME'),\n",
        "    'charset': 'utf8mb4'\n",
        "}\n",
        "\n",
        "def test_db_connection():\n",
        "    try:\n",
        "        conn = pymysql.connect(**DB_CONFIG)\n",
        "        cursor = conn.cursor()\n",
        "        cursor.execute(\"SELECT VERSION();\")\n",
        "        version = cursor.fetchone()\n",
        "        print(f\"[✓] MySQL 연결 성공 - 버전: {version[0]}\")\n",
        "        cursor.close()\n",
        "        conn.close()\n",
        "    except Exception as e:\n",
        "        print(\"[✗] DB 연결 실패:\", e)\n",
        "\n",
        "if __name__ == \"__main__\":\n",
        "    test_db_connection()\n"
      ]
    },
    {
      "cell_type": "markdown",
      "source": [
        "## 3. DB삽입 전 테스트\n",
        "* 실제 삽입 전 출력으로 테스트 해봅니다."
      ],
      "metadata": {
        "id": "u3LbVioZ6gCh"
      },
      "id": "u3LbVioZ6gCh"
    },
    {
      "cell_type": "code",
      "execution_count": null,
      "id": "1d5b9bd6-70b7-42a6-8752-1d63a63bbb72",
      "metadata": {
        "id": "1d5b9bd6-70b7-42a6-8752-1d63a63bbb72"
      },
      "outputs": [],
      "source": [
        "# 삽입 전 테스트\n",
        "def users_preview(cursor, authors):\n",
        "    author_id_map = {}\n",
        "    for author in authors:\n",
        "        # user_id가 PK이므로 수정\n",
        "        cursor.execute(\"SELECT user_id FROM User WHERE nickname = %s\", (author,))\n",
        "        result = cursor.fetchone()\n",
        "\n",
        "        if result:\n",
        "            print(f\"[이미 존재] {author} → User ID {result[0]}\")\n",
        "            author_id_map[author] = result[0]\n",
        "        else:\n",
        "            print(f\"[삽입 예정] INSERT INTO User (login_id, password_hash, nickname, email, created_at) \"\n",
        "                  f\"VALUES (NULL, 'dummy', '{author}', NULL, NOW())\")\n",
        "            fake_id = -(len(author_id_map) + 1)\n",
        "            author_id_map[author] = fake_id\n",
        "\n",
        "    return author_id_map\n",
        "\n",
        "\n",
        "if __name__ == \"__main__\":\n",
        "    authors = collect_authors(author_dir)\n",
        "\n",
        "    conn = pymysql.connect(**DB_CONFIG)\n",
        "    cursor = conn.cursor()\n",
        "\n",
        "    print(\"=== 더미 사용자 삽입 시뮬레이션 (INSERT 없이) ===\")\n",
        "    author_id_map = users_preview(cursor, authors)\n",
        "\n",
        "    print(\"\\n[가상 Author ID 매핑 결과]\")\n",
        "    for author, fake_id in author_id_map.items():\n",
        "        print(f\"{author} → {fake_id}\")\n",
        "\n",
        "    cursor.close()\n",
        "    conn.close()\n"
      ]
    },
    {
      "cell_type": "markdown",
      "source": [
        "## 4.  작가 목록을 User 테이블에 더미 계정으로 INSERT\n",
        "* Pelicanic_db.User 테이블에 실제로 데이터를 삽입합니다.\n"
      ],
      "metadata": {
        "id": "1iqB9uhP6pIW"
      },
      "id": "1iqB9uhP6pIW"
    },
    {
      "cell_type": "code",
      "execution_count": null,
      "id": "2a209c29-6d8c-4d19-98fb-0c138b30deba",
      "metadata": {
        "id": "2a209c29-6d8c-4d19-98fb-0c138b30deba"
      },
      "outputs": [],
      "source": [
        "from datetime import datetime\n",
        "\n",
        "def insert_dummy_users(cursor, authors):\n",
        "    author_id_map = {}\n",
        "    for author in authors:\n",
        "        cursor.execute(\"SELECT user_id FROM User WHERE nickname = %s\", (author,))\n",
        "        result = cursor.fetchone()\n",
        "        if result:\n",
        "            author_id = result[0]\n",
        "        else:\n",
        "            cursor.execute(\"\"\"\n",
        "                INSERT INTO User (login_id, password_hash, nickname, email, created_at)\n",
        "                VALUES (%s, %s, %s, %s, %s)\n",
        "            \"\"\", (None, 'dummy', author, None, datetime.now()))\n",
        "            author_id = cursor.lastrowid\n",
        "        author_id_map[author] = author_id\n",
        "    return author_id_map\n",
        "\n",
        "if __name__ == \"__main__\":\n",
        "    authors = collect_authors(author_dir)\n",
        "\n",
        "    try:\n",
        "        conn = pymysql.connect(**DB_CONFIG)\n",
        "        cursor = conn.cursor()\n",
        "\n",
        "        author_id_map = insert_dummy_users(cursor, authors)\n",
        "        conn.commit()\n",
        "\n",
        "        print(\"✅ Author → User ID 매핑 결과:\")\n",
        "        for name, uid in author_id_map.items():\n",
        "            print(f\"{name} → {uid}\")\n",
        "\n",
        "    except Exception as e:\n",
        "        conn.rollback()\n",
        "        print(f\"❌ 에러 발생: {e}\")\n",
        "    finally:\n",
        "        cursor.close()\n",
        "        conn.close()\n"
      ]
    },
    {
      "cell_type": "markdown",
      "source": [
        "## 5. SUMMARY 생성하기\n",
        "* Paragraph를 읽어들여 해당 내용을 요약하는 기능을 만들었습니다.\n",
        "* 추후에 유저에게 보여줄 요약 서비스에 사용되면 좋지않을까 싶네요"
      ],
      "metadata": {
        "id": "MMLRUhdv67ZZ"
      },
      "id": "MMLRUhdv67ZZ"
    },
    {
      "cell_type": "code",
      "execution_count": null,
      "id": "2866f52b-9232-4be0-aa65-fb53649e8d0d",
      "metadata": {
        "id": "2866f52b-9232-4be0-aa65-fb53649e8d0d",
        "outputId": "7c126d65-6678-4c5a-fc80-e36b5fcad6a1"
      },
      "outputs": [
        {
          "name": "stdout",
          "output_type": "stream",
          "text": [
            "Collecting google-generativeai\n",
            "  Using cached google_generativeai-0.8.5-py3-none-any.whl.metadata (3.9 kB)\n",
            "Collecting google-ai-generativelanguage==0.6.15 (from google-generativeai)\n",
            "  Using cached google_ai_generativelanguage-0.6.15-py3-none-any.whl.metadata (5.7 kB)\n",
            "Collecting google-api-core (from google-generativeai)\n",
            "  Using cached google_api_core-2.24.2-py3-none-any.whl.metadata (3.0 kB)\n",
            "Collecting google-api-python-client (from google-generativeai)\n",
            "  Using cached google_api_python_client-2.170.0-py3-none-any.whl.metadata (6.7 kB)\n",
            "Collecting google-auth>=2.15.0 (from google-generativeai)\n",
            "  Using cached google_auth-2.40.2-py2.py3-none-any.whl.metadata (6.2 kB)\n",
            "Collecting protobuf (from google-generativeai)\n",
            "  Downloading protobuf-6.31.1-cp39-abi3-macosx_10_9_universal2.whl.metadata (593 bytes)\n",
            "Requirement already satisfied: pydantic in /opt/homebrew/Caskroom/miniforge/base/envs/p311_donghwa/lib/python3.11/site-packages (from google-generativeai) (2.11.5)\n",
            "Requirement already satisfied: tqdm in /opt/homebrew/Caskroom/miniforge/base/envs/p311_donghwa/lib/python3.11/site-packages (from google-generativeai) (4.67.1)\n",
            "Requirement already satisfied: typing-extensions in /opt/homebrew/Caskroom/miniforge/base/envs/p311_donghwa/lib/python3.11/site-packages (from google-generativeai) (4.12.2)\n",
            "Collecting google-api-core (from google-generativeai)\n",
            "  Using cached google_api_core-2.25.0rc1-py3-none-any.whl.metadata (3.0 kB)\n",
            "Collecting proto-plus<2.0.0dev,>=1.22.3 (from google-ai-generativelanguage==0.6.15->google-generativeai)\n",
            "  Using cached proto_plus-1.26.1-py3-none-any.whl.metadata (2.2 kB)\n",
            "Collecting protobuf (from google-generativeai)\n",
            "  Downloading protobuf-5.29.5-cp38-abi3-macosx_10_9_universal2.whl.metadata (592 bytes)\n",
            "Collecting googleapis-common-protos<2.0.0,>=1.56.2 (from google-api-core->google-generativeai)\n",
            "  Using cached googleapis_common_protos-1.70.0-py3-none-any.whl.metadata (9.3 kB)\n",
            "Requirement already satisfied: requests<3.0.0,>=2.18.0 in /opt/homebrew/Caskroom/miniforge/base/envs/p311_donghwa/lib/python3.11/site-packages (from google-api-core->google-generativeai) (2.32.3)\n",
            "Collecting grpcio<2.0.0,>=1.33.2 (from google-api-core[grpc]!=2.0.*,!=2.1.*,!=2.10.*,!=2.2.*,!=2.3.*,!=2.4.*,!=2.5.*,!=2.6.*,!=2.7.*,!=2.8.*,!=2.9.*,<3.0.0dev,>=1.34.1->google-ai-generativelanguage==0.6.15->google-generativeai)\n",
            "  Using cached grpcio-1.71.0-cp311-cp311-macosx_10_14_universal2.whl.metadata (3.8 kB)\n",
            "Collecting grpcio-status<2.0.0,>=1.33.2 (from google-api-core[grpc]!=2.0.*,!=2.1.*,!=2.10.*,!=2.2.*,!=2.3.*,!=2.4.*,!=2.5.*,!=2.6.*,!=2.7.*,!=2.8.*,!=2.9.*,<3.0.0dev,>=1.34.1->google-ai-generativelanguage==0.6.15->google-generativeai)\n",
            "  Using cached grpcio_status-1.71.0-py3-none-any.whl.metadata (1.1 kB)\n",
            "Collecting cachetools<6.0,>=2.0.0 (from google-auth>=2.15.0->google-generativeai)\n",
            "  Using cached cachetools-5.5.2-py3-none-any.whl.metadata (5.4 kB)\n",
            "Collecting pyasn1-modules>=0.2.1 (from google-auth>=2.15.0->google-generativeai)\n",
            "  Using cached pyasn1_modules-0.4.2-py3-none-any.whl.metadata (3.5 kB)\n",
            "Collecting rsa<5,>=3.1.4 (from google-auth>=2.15.0->google-generativeai)\n",
            "  Using cached rsa-4.9.1-py3-none-any.whl.metadata (5.6 kB)\n",
            "Requirement already satisfied: charset-normalizer<4,>=2 in /opt/homebrew/Caskroom/miniforge/base/envs/p311_donghwa/lib/python3.11/site-packages (from requests<3.0.0,>=2.18.0->google-api-core->google-generativeai) (3.3.2)\n",
            "Requirement already satisfied: idna<4,>=2.5 in /opt/homebrew/Caskroom/miniforge/base/envs/p311_donghwa/lib/python3.11/site-packages (from requests<3.0.0,>=2.18.0->google-api-core->google-generativeai) (3.7)\n",
            "Requirement already satisfied: urllib3<3,>=1.21.1 in /opt/homebrew/Caskroom/miniforge/base/envs/p311_donghwa/lib/python3.11/site-packages (from requests<3.0.0,>=2.18.0->google-api-core->google-generativeai) (2.3.0)\n",
            "Requirement already satisfied: certifi>=2017.4.17 in /opt/homebrew/Caskroom/miniforge/base/envs/p311_donghwa/lib/python3.11/site-packages (from requests<3.0.0,>=2.18.0->google-api-core->google-generativeai) (2025.4.26)\n",
            "Collecting pyasn1>=0.1.3 (from rsa<5,>=3.1.4->google-auth>=2.15.0->google-generativeai)\n",
            "  Using cached pyasn1-0.6.1-py3-none-any.whl.metadata (8.4 kB)\n",
            "Collecting httplib2<1.0.0,>=0.19.0 (from google-api-python-client->google-generativeai)\n",
            "  Using cached httplib2-0.22.0-py3-none-any.whl.metadata (2.6 kB)\n",
            "Collecting google-auth-httplib2<1.0.0,>=0.2.0 (from google-api-python-client->google-generativeai)\n",
            "  Using cached google_auth_httplib2-0.2.0-py2.py3-none-any.whl.metadata (2.2 kB)\n",
            "Collecting uritemplate<5,>=3.0.1 (from google-api-python-client->google-generativeai)\n",
            "  Using cached uritemplate-4.1.1-py2.py3-none-any.whl.metadata (2.9 kB)\n",
            "Collecting pyparsing!=3.0.0,!=3.0.1,!=3.0.2,!=3.0.3,<4,>=2.4.2 (from httplib2<1.0.0,>=0.19.0->google-api-python-client->google-generativeai)\n",
            "  Using cached pyparsing-3.2.3-py3-none-any.whl.metadata (5.0 kB)\n",
            "Requirement already satisfied: annotated-types>=0.6.0 in /opt/homebrew/Caskroom/miniforge/base/envs/p311_donghwa/lib/python3.11/site-packages (from pydantic->google-generativeai) (0.7.0)\n",
            "Requirement already satisfied: pydantic-core==2.33.2 in /opt/homebrew/Caskroom/miniforge/base/envs/p311_donghwa/lib/python3.11/site-packages (from pydantic->google-generativeai) (2.33.2)\n",
            "Requirement already satisfied: typing-inspection>=0.4.0 in /opt/homebrew/Caskroom/miniforge/base/envs/p311_donghwa/lib/python3.11/site-packages (from pydantic->google-generativeai) (0.4.1)\n",
            "Using cached google_generativeai-0.8.5-py3-none-any.whl (155 kB)\n",
            "Using cached google_ai_generativelanguage-0.6.15-py3-none-any.whl (1.3 MB)\n",
            "Using cached google_api_core-2.25.0rc1-py3-none-any.whl (160 kB)\n",
            "Using cached google_auth-2.40.2-py2.py3-none-any.whl (216 kB)\n",
            "Using cached cachetools-5.5.2-py3-none-any.whl (10 kB)\n",
            "Using cached googleapis_common_protos-1.70.0-py3-none-any.whl (294 kB)\n",
            "Using cached grpcio-1.71.0-cp311-cp311-macosx_10_14_universal2.whl (11.3 MB)\n",
            "Using cached grpcio_status-1.71.0-py3-none-any.whl (14 kB)\n",
            "Using cached proto_plus-1.26.1-py3-none-any.whl (50 kB)\n",
            "Downloading protobuf-5.29.5-cp38-abi3-macosx_10_9_universal2.whl (418 kB)\n",
            "Using cached rsa-4.9.1-py3-none-any.whl (34 kB)\n",
            "Using cached pyasn1-0.6.1-py3-none-any.whl (83 kB)\n",
            "Using cached pyasn1_modules-0.4.2-py3-none-any.whl (181 kB)\n",
            "Using cached google_api_python_client-2.170.0-py3-none-any.whl (13.5 MB)\n",
            "Using cached google_auth_httplib2-0.2.0-py2.py3-none-any.whl (9.3 kB)\n",
            "Using cached httplib2-0.22.0-py3-none-any.whl (96 kB)\n",
            "Using cached pyparsing-3.2.3-py3-none-any.whl (111 kB)\n",
            "Using cached uritemplate-4.1.1-py2.py3-none-any.whl (10 kB)\n",
            "Installing collected packages: uritemplate, pyparsing, pyasn1, protobuf, grpcio, cachetools, rsa, pyasn1-modules, proto-plus, httplib2, googleapis-common-protos, grpcio-status, google-auth, google-auth-httplib2, google-api-core, google-api-python-client, google-ai-generativelanguage, google-generativeai\n",
            "\u001b[2K   \u001b[90m━━━━━━━━━━━━━━━━━━━━━━━━━━━━━━━━━━━━━━━━\u001b[0m \u001b[32m18/18\u001b[0m [google-generativeai]ogle-ai-generativelanguage]\n",
            "\u001b[1A\u001b[2KSuccessfully installed cachetools-5.5.2 google-ai-generativelanguage-0.6.15 google-api-core-2.25.0rc1 google-api-python-client-2.170.0 google-auth-2.40.2 google-auth-httplib2-0.2.0 google-generativeai-0.8.5 googleapis-common-protos-1.70.0 grpcio-1.71.0 grpcio-status-1.71.0 httplib2-0.22.0 proto-plus-1.26.1 protobuf-5.29.5 pyasn1-0.6.1 pyasn1-modules-0.4.2 pyparsing-3.2.3 rsa-4.9.1 uritemplate-4.1.1\n",
            "Note: you may need to restart the kernel to use updated packages.\n"
          ]
        }
      ],
      "source": [
        "pip install google-generativeai"
      ]
    },
    {
      "cell_type": "code",
      "execution_count": null,
      "id": "f9c38af8-6f90-4466-a341-3463295c14fb",
      "metadata": {
        "id": "f9c38af8-6f90-4466-a341-3463295c14fb",
        "outputId": "c2cccb60-7c8d-4cd9-d312-932d317e0c59"
      },
      "outputs": [
        {
          "name": "stdout",
          "output_type": "stream",
          "text": [
            "📘 동화 제목: 몽고메리 버스에서 생긴 일\n",
            "🖋️ 작가: 한얼교육 편집부\n",
            "📄 Gemini 생성 요약:\n",
            "피곤한 몸으로 버스에 오른 흑인 여성 로자 파크스는 백인 남성에게 자리를 양보하라는 버스 운전사의 요구를 거절했습니다.  이는 앨라배마 주의 인종차별적인 버스 좌석 분리법을 정면으로 거부하는 행위였습니다.  파크스 부인은 체포되었지만, 이 사건은 흑인들의 인권 운동에 불을 지폈습니다.  흑인들은 버스 보이콧 운동을 벌이며 백인들의 차별에 맞섰고,  결국 미국 연방 대법원은 앨라배마 주의 인종차별 법을 위헌으로 판결했습니다.  파크스 부인의 용기 있는 행동은 미국 사회의 인종차별 철폐에 중요한 계기가 되었고, 많은 이들에게 희망을 주었습니다.\n"
          ]
        }
      ],
      "source": [
        "import google.generativeai as genai\n",
        "\n",
        "\n",
        "# 구글 API키 불러오기\n",
        "try:\n",
        "    GOOGLE_API_KEY = os.getenv(\"GOOGLE_API_KEY\")\n",
        "    if GOOGLE_API_KEY == \"YOUR_GOOGLE_AI_STUDIO_API_KEY\":\n",
        "        print(\"⚠️ 경고: GOOGLE_API_KEY를 설정해야 합니다. 코드를 수정해주세요.\")\n",
        "    genai.configure(api_key=GOOGLE_API_KEY)\n",
        "except Exception as e:\n",
        "    print(f\"API 키 설정 중 오류 발생: {e}\")\n",
        "    print(\"GOOGLE_API_KEY 환경 변수를 설정하거나 코드에 직접 API 키를 입력해주세요.\")\n",
        "    # exit()\n",
        "\n",
        "\n",
        "gemini_model = genai.GenerativeModel('gemini-1.5-flash-latest')\n",
        "\n",
        "\n",
        "def generate_summary_llm(paragraphs):\n",
        "    full_text = \"\\n\".join(p[\"srcText\"] for p in paragraphs)\n",
        "\n",
        "    # Gemini를 위한 프롬프트\n",
        "    prompt = f\"\"\"당신은 유아동화를 요약하는 작가입니다. 다음은 유아용 동화 전체 본문입니다. 이 내용을 한국어 300자 이내로 줄거리 요약해 주세요.\\n\\n{full_text[:3500]}\"\"\" # 입력 길이 제한은 유지\n",
        "\n",
        "    try:\n",
        "        # Gemini API 호출\n",
        "        response = gemini_model.generate_content(\n",
        "            prompt,\n",
        "            generation_config=genai.types.GenerationConfig(\n",
        "                temperature=0.7 # 창의성 조절\n",
        "            )\n",
        "        )\n",
        "        return response.text.strip()\n",
        "    except Exception as e:\n",
        "        print(f\"[요약 실패 - Gemini] {e}\")\n",
        "        return \"요약 생성 실패 (Gemini)\"\n",
        "\n",
        "\n",
        "def load_json_and_summarize(json_path):\n",
        "    try:\n",
        "        with open(json_path, \"r\", encoding=\"utf-8\") as f:\n",
        "            data = json.load(f)\n",
        "\n",
        "        paragraphs = data.get(\"paragraphInfo\", [])\n",
        "        if not paragraphs:\n",
        "            raise ValueError(\"paragraphInfo가 존재하지 않습니다.\")\n",
        "\n",
        "        summary = generate_summary_llm(paragraphs) # 수정된 함수 호출\n",
        "        print(f\"📘 동화 제목: {data.get('title', '제목 없음')}\")\n",
        "        print(f\"🖋️ 작가: {data.get('author', '작자 미상')}\")\n",
        "        print(f\"📄 Gemini 생성 요약:\\n{summary}\")\n",
        "\n",
        "    except json.JSONDecodeError as je:\n",
        "        print(\"❌ JSON 파싱 에러:\", je)\n",
        "    except Exception as e:\n",
        "        print(\"❌ 처리 중 오류 발생:\", e)\n",
        "\n",
        "\n",
        "if __name__ == \"__main__\":\n",
        "    json_file_path = \"/Users/sopung/Downloads/Sample/02.라벨링데이터/01T_의사소통/01S_유아/test.json\"\n",
        "\n",
        "    if GOOGLE_API_KEY == \"YOUR_GOOGLE_AI_STUDIO_API_KEY\":\n",
        "        print(\"실행 전에 API 키를 코드에 입력해주세요. (위의 GOOGLE_API_KEY 변수)\")\n",
        "    else:\n",
        "        if os.path.exists(json_file_path):\n",
        "            load_json_and_summarize(json_file_path)\n",
        "        else:\n",
        "            print(f\"❌ 오류: JSON 파일을 찾을 수 없습니다 - {json_file_path}\")\n",
        "            print(\"실제 JSON 파일 경로로 수정해주세요.\")"
      ]
    },
    {
      "cell_type": "markdown",
      "source": [
        "## 6. TEST JSON 삽입\n",
        "* 이제 Story, StoryParagraph, ParagraphVersion에 JSON을 읽어들여 동화를 삽입해봅시다.\n"
      ],
      "metadata": {
        "id": "5utkUWex8PiG"
      },
      "id": "5utkUWex8PiG"
    },
    {
      "cell_type": "code",
      "execution_count": null,
      "id": "2d71b481-1704-4e02-a963-713bc1af1a62",
      "metadata": {
        "id": "2d71b481-1704-4e02-a963-713bc1af1a62",
        "outputId": "79b9faf9-b410-4baf-973a-297ed61a0b79"
      },
      "outputs": [
        {
          "name": "stdout",
          "output_type": "stream",
          "text": [
            "[✓] Story '사람으로 둔갑 한 쥐' 삽입 완료 (ID: 2)\n",
            "[✓] 전체 삽입 완료. Story ID: 2\n"
          ]
        }
      ],
      "source": [
        "from datetime import datetime\n",
        "from pymysql.converters import escape_string\n",
        "\n",
        "# 📌 환경 변수(.env) 파일 로딩\n",
        "# 반드시 루트 디렉토리에 `.env` 파일이 존재해야 하며, Git에 올리지 마세요!\n",
        "load_dotenv()\n",
        "\n",
        "# ✅ Gemini API 설정\n",
        "GOOGLE_API_KEY = os.getenv(\"GOOGLE_API_KEY\")  # 🔒 API 키를 직접 하드코딩하지 마세요. .env에서 불러옵니다.\n",
        "if not GOOGLE_API_KEY:\n",
        "    raise ValueError(\"❌ GOOGLE_API_KEY가 설정되지 않았습니다. .env 파일을 확인하세요.\")\n",
        "\n",
        "genai.configure(api_key=GOOGLE_API_KEY)\n",
        "gemini_model = genai.GenerativeModel('gemini-1.5-flash-latest')\n",
        "\n",
        "# ✅ DB 접속 정보\n",
        "DB_CONFIG = {\n",
        "    'host': os.getenv('DB_HOST'),\n",
        "    'port': int(os.getenv('DB_PORT', 3306)),\n",
        "    'user': os.getenv('DB_USER'),\n",
        "    'password': os.getenv('DB_PASSWORD'),\n",
        "    'database': os.getenv('DB_NAME'),\n",
        "    'charset': 'utf8mb4'\n",
        "}\n",
        "\n",
        "# ✅ Gemini 요약 함수\n",
        "def generate_summary_llm(paragraphs):\n",
        "    full_text = \"\\n\".join(p[\"srcText\"] for p in paragraphs)\n",
        "    prompt = f\"\"\"당신은 유아동화를 요약하는 작가입니다. 다음은 유아용 동화 전체 본문입니다. 이 내용을 한국어 300자 이내로 줄거리 요약해 주세요.\\n\\n{full_text[:3500]}\"\"\"\n",
        "    try:\n",
        "        response = gemini_model.generate_content(\n",
        "            prompt,\n",
        "            generation_config=genai.types.GenerationConfig(temperature=0.7)\n",
        "        )\n",
        "        return response.text.strip()\n",
        "    except Exception as e:\n",
        "        print(f\"[❌ 요약 실패 - Gemini] {e}\")\n",
        "        return \"요약 생성 실패 (Gemini)\"\n",
        "\n",
        "# ✅ 작가 유저 ID 가져오기 또는 생성\n",
        "def get_or_create_author_user_id(cursor, author_name):\n",
        "    author_name = author_name.strip()\n",
        "    cursor.execute(\"SELECT user_id FROM User WHERE nickname = %s\", (author_name,))\n",
        "    result = cursor.fetchone()\n",
        "    if result:\n",
        "        return result[0]\n",
        "    else:\n",
        "        now = datetime.now().strftime('%Y-%m-%d %H:%M:%S')\n",
        "        cursor.execute(\"\"\"\n",
        "            INSERT INTO User (login_id, password_hash, nickname, email, created_at)\n",
        "            VALUES (%s, %s, %s, %s, %s)\n",
        "        \"\"\", (None, 'dummy', author_name, None, now))\n",
        "        return cursor.lastrowid\n",
        "\n",
        "# ✅ Story + Paragraph + Version 삽입\n",
        "def insert_story_and_paragraphs(cursor, json_data):\n",
        "    now = datetime.now().strftime('%Y-%m-%d %H:%M:%S')\n",
        "\n",
        "    title = escape_string(json_data.get(\"title\", \"제목 없음\"))\n",
        "    author_name = json_data.get(\"author\", \"작자 미상\").strip()\n",
        "    paragraphs = json_data.get(\"paragraphInfo\", [])\n",
        "    summary = escape_string(generate_summary_llm(paragraphs))\n",
        "    author_user_id = get_or_create_author_user_id(cursor, author_name)\n",
        "    author_name_escaped = escape_string(author_name)\n",
        "\n",
        "    # 📘 Story 삽입\n",
        "    cursor.execute(f\"\"\"\n",
        "        INSERT INTO Story (author_user_id, author_name, title, summary, created_at, updated_at, status)\n",
        "        VALUES (%s, %s, %s, %s, %s, %s, %s)\n",
        "    \"\"\", (author_user_id, author_name_escaped, title, summary, now, now, 'published'))\n",
        "    story_id = cursor.lastrowid\n",
        "    print(f\"[✓] Story '{title}' 삽입 완료 (ID: {story_id})\")\n",
        "\n",
        "    # 📄 Paragraph 및 Version 삽입\n",
        "    for idx, p in enumerate(paragraphs, 1):\n",
        "        content = escape_string(p.get(\"srcText\", \"\"))\n",
        "        cursor.execute(f\"\"\"\n",
        "            INSERT INTO StoryParagraph (story_id, paragraph_no, content_text, created_at, updated_at)\n",
        "            VALUES (%s, %s, %s, %s, %s)\n",
        "        \"\"\", (story_id, idx, content, now, now))\n",
        "        paragraph_id = cursor.lastrowid\n",
        "\n",
        "        cursor.execute(f\"\"\"\n",
        "            INSERT INTO ParagraphVersion (paragraph_id, version_no, content_text, generated_by, created_at)\n",
        "            VALUES (%s, %s, %s, %s, %s)\n",
        "        \"\"\", (paragraph_id, 1, content, author_name, now))\n",
        "\n",
        "    return story_id\n",
        "\n",
        "# ✅ 메인 실행 함수\n",
        "def main():\n",
        "    json_path = \"/Users/sopung/Downloads/Sample/02.라벨링데이터/01T_의사소통/01S_유아/test2.json\"\n",
        "\n",
        "    try:\n",
        "        with open(json_path, \"r\", encoding=\"utf-8\") as f:\n",
        "            data = json.load(f)\n",
        "    except Exception as e:\n",
        "        print(f\"❌ JSON 로딩 실패: {e}\")\n",
        "        return\n",
        "\n",
        "    try:\n",
        "        conn = pymysql.connect(**DB_CONFIG)\n",
        "        cursor = conn.cursor()\n",
        "        story_id = insert_story_and_paragraphs(cursor, data)\n",
        "        conn.commit()\n",
        "        print(f\"[✓] 전체 삽입 완료. Story ID: {story_id}\")\n",
        "    except Exception as e:\n",
        "        print(f\"❌ DB 삽입 실패: {e}\")\n",
        "        conn.rollback()\n",
        "    finally:\n",
        "        cursor.close()\n",
        "        conn.close()\n",
        "\n",
        "if __name__ == \"__main__\":\n",
        "    main()\n"
      ]
    },
    {
      "cell_type": "code",
      "execution_count": null,
      "id": "221e0acc-5e60-43e8-8d4a-d4d05f6670ba",
      "metadata": {
        "id": "221e0acc-5e60-43e8-8d4a-d4d05f6670ba"
      },
      "outputs": [],
      "source": [
        "# DB 값 확인 및 내용삭제용\n",
        "SELECT * FROM pelicanic_db.User;\n",
        "SELECT * FROM pelicanic_db.Story;\n",
        "SELECT * FROM pelicanic_db.StoryParagraph;\n",
        "SELECT * FROM pelicanic_db.ParagraphVersion;\n",
        "\n",
        "SET FOREIGN_KEY_CHECKS = 0;\n",
        "\n",
        "TRUNCATE TABLE pelicanic_db.ParagraphVersion;\n",
        "TRUNCATE TABLE pelicanic_db.Illustration;\n",
        "TRUNCATE TABLE pelicanic_db.StoryParagraph;\n",
        "TRUNCATE TABLE pelicanic_db.Story;\n",
        "\n",
        "SET FOREIGN_KEY_CHECKS = 1;"
      ]
    },
    {
      "cell_type": "markdown",
      "source": [
        "## 7. 실제 삽입코드"
      ],
      "metadata": {
        "id": "WE_Rdz_X9PL7"
      },
      "id": "WE_Rdz_X9PL7"
    },
    {
      "cell_type": "code",
      "execution_count": null,
      "id": "2a1772f1-40a5-45bf-9626-f6f6d2e2ae8d",
      "metadata": {
        "id": "2a1772f1-40a5-45bf-9626-f6f6d2e2ae8d"
      },
      "outputs": [],
      "source": [
        "# ✅ Gemini API 설정\n",
        "GOOGLE_API_KEY = os.getenv(\"GOOGLE_API_KEY\")  # 🔒 API 키를 직접 하드코딩하지 마세요. .env에서 불러옵니다.\n",
        "if not GOOGLE_API_KEY:\n",
        "    raise ValueError(\"❌ GOOGLE_API_KEY가 설정되지 않았습니다. .env 파일을 확인하세요.\")\n",
        "\n",
        "genai.configure(api_key=GOOGLE_API_KEY)\n",
        "gemini_model = genai.GenerativeModel('gemini-1.5-flash-latest')\n",
        "\n",
        "# ✅ DB 접속 정보\n",
        "DB_CONFIG = {\n",
        "    'host': os.getenv('DB_HOST'),\n",
        "    'port': int(os.getenv('DB_PORT', 3306)),\n",
        "    'user': os.getenv('DB_USER'),\n",
        "    'password': os.getenv('DB_PASSWORD'),\n",
        "    'database': os.getenv('DB_NAME'),\n",
        "    'charset': 'utf8mb4'\n",
        "}\n",
        "\n",
        "# ✅ Gemini 요약 함수\n",
        "def generate_summary_llm(paragraphs):\n",
        "    full_text = \"\\n\".join(p[\"srcText\"] for p in paragraphs)\n",
        "    prompt = f\"\"\"당신은 유아동화를 요약하는 작가입니다. 다음은 유아용 동화 전체 본문입니다. 이 내용을 한국어 300자 이내로 줄거리 요약해 주세요.\\n\\n{full_text[:3500]}\"\"\"\n",
        "    try:\n",
        "        response = gemini_model.generate_content(\n",
        "            prompt,\n",
        "            generation_config=genai.types.GenerationConfig(temperature=0.7)\n",
        "        )\n",
        "        return response.text.strip()\n",
        "    except Exception as e:\n",
        "        print(f\"[❌ 요약 실패 - Gemini] {e}\")\n",
        "        return \"요약 생성 실패 (Gemini)\"\n",
        "\n",
        "# ✅ 작가 유저 ID 가져오기 또는 생성\n",
        "def get_or_create_author_user_id(cursor, author_name):\n",
        "    author_name = author_name.strip()\n",
        "    cursor.execute(\"SELECT user_id FROM User WHERE nickname = %s\", (author_name,))\n",
        "    result = cursor.fetchone()\n",
        "    if result:\n",
        "        return result[0]\n",
        "    else:\n",
        "        now = datetime.now().strftime('%Y-%m-%d %H:%M:%S')\n",
        "        cursor.execute(\"\"\"\n",
        "            INSERT INTO User (login_id, password_hash, nickname, email, created_at)\n",
        "            VALUES (%s, %s, %s, %s, %s)\n",
        "        \"\"\", (None, 'dummy', author_name, None, now))\n",
        "        return cursor.lastrowid\n",
        "\n",
        "# ✅ Story + Paragraph + Version 삽입\n",
        "def insert_story_and_paragraphs(cursor, json_data):\n",
        "    now = datetime.now().strftime('%Y-%m-%d %H:%M:%S')\n",
        "\n",
        "    title = escape_string(json_data.get(\"title\", \"제목 없음\"))\n",
        "    author_name = json_data.get(\"author\", \"작자 미상\").strip()\n",
        "    paragraphs = json_data.get(\"paragraphInfo\", [])\n",
        "    summary = escape_string(generate_summary_llm(paragraphs))\n",
        "    author_user_id = get_or_create_author_user_id(cursor, author_name)\n",
        "    author_name_escaped = escape_string(author_name)\n",
        "\n",
        "    cursor.execute(f\"\"\"\n",
        "        INSERT INTO Story (author_user_id, author_name, title, summary, created_at, updated_at, status)\n",
        "        VALUES (%s, %s, %s, %s, %s, %s, %s)\n",
        "    \"\"\", (author_user_id, author_name_escaped, title, summary, now, now, 'published'))\n",
        "    story_id = cursor.lastrowid\n",
        "    print(f\"[✓] Story '{title}' 삽입 완료 (ID: {story_id})\")\n",
        "\n",
        "    for idx, p in enumerate(paragraphs, 1):\n",
        "        content = escape_string(p.get(\"srcText\", \"\"))\n",
        "        cursor.execute(f\"\"\"\n",
        "            INSERT INTO StoryParagraph (story_id, paragraph_no, content_text, created_at, updated_at)\n",
        "            VALUES (%s, %s, %s, %s, %s)\n",
        "        \"\"\", (story_id, idx, content, now, now))\n",
        "        paragraph_id = cursor.lastrowid\n",
        "\n",
        "        cursor.execute(f\"\"\"\n",
        "            INSERT INTO ParagraphVersion (paragraph_id, version_no, content_text, generated_by, created_at)\n",
        "            VALUES (%s, %s, %s, %s, %s)\n",
        "        \"\"\", (paragraph_id, 1, content, author_name, now))\n",
        "\n",
        "    return story_id\n",
        "\n",
        "# ✅ 폴더 내 모든 JSON 처리\n",
        "def main():\n",
        "    folder_path = \"/Users/sopung/Downloads/Sample/02.라벨링데이터/01T_의사소통/01S_유아\"\n",
        "\n",
        "    try:\n",
        "        conn = pymysql.connect(**DB_CONFIG)\n",
        "        cursor = conn.cursor()\n",
        "\n",
        "        for filename in os.listdir(folder_path):\n",
        "            if filename.endswith(\".json\"):\n",
        "                file_path = os.path.join(folder_path, filename)\n",
        "                try:\n",
        "                    with open(file_path, \"r\", encoding=\"utf-8\") as f:\n",
        "                        data = json.load(f)\n",
        "                    story_id = insert_story_and_paragraphs(cursor, data)\n",
        "                    conn.commit()\n",
        "                    print(f\"[✓] '{filename}' 삽입 성공 → Story ID: {story_id}\")\n",
        "                except Exception as file_error:\n",
        "                    print(f\"[❌] '{filename}' 처리 중 오류: {file_error}\")\n",
        "                    conn.rollback()\n",
        "\n",
        "    except Exception as db_error:\n",
        "        print(f\"❌ DB 연결 실패: {db_error}\")\n",
        "    finally:\n",
        "        if 'cursor' in locals(): cursor.close()\n",
        "        if 'conn' in locals(): conn.close()\n",
        "\n",
        "if __name__ == \"__main__\":\n",
        "    main()\n"
      ]
    }
  ],
  "metadata": {
    "kernelspec": {
      "display_name": "Python 3 (ipykernel)",
      "language": "python",
      "name": "python3"
    },
    "language_info": {
      "codemirror_mode": {
        "name": "ipython",
        "version": 3
      },
      "file_extension": ".py",
      "mimetype": "text/x-python",
      "name": "python",
      "nbconvert_exporter": "python",
      "pygments_lexer": "ipython3",
      "version": "3.11.11"
    },
    "colab": {
      "provenance": []
    }
  },
  "nbformat": 4,
  "nbformat_minor": 5
}